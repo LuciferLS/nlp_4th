{
 "cells": [
  {
   "cell_type": "markdown",
   "metadata": {},
   "source": [
    "# 0 中文wiki下载及提取"
   ]
  },
  {
   "cell_type": "markdown",
   "metadata": {},
   "source": [
    "## 0.1 下载初始中文wiki(xml.bz2压缩格式)\n",
    "可使用下列命令直接下载，也可从[此链接](https://dumps.wikimedia.org/zhwiki/20190720/)直接下载:  \n",
    "curl -L -O \"https://dumps.wikimedia.org/zhwiki/20190720/zhwiki-20190720-pages-articles-multistream.xml.bz2\""
   ]
  },
  {
   "cell_type": "markdown",
   "metadata": {},
   "source": [
    "## 0.2 从wiki压缩文件中提取原文本\n",
    "下载文件是xml格式且结构复杂，所以需要提取器来剖析。这里使用[WikiExtractor](https://github.com/attardi/wikiextractor)来对原文件进行剖析。在命令行中输入命令:  \n",
    "python WikiExtractor.py enwiki-latest-pages-articles.xml.bz2 -b 1G -o extracted_wiki --no-template --processes 24"
   ]
  },
  {
   "cell_type": "markdown",
   "metadata": {},
   "source": [
    "# 1 原始文本的预处理"
   ]
  },
  {
   "cell_type": "markdown",
   "metadata": {},
   "source": [
    "## 1.1 去除文本噪音\n",
    "原始文本中有很多东西是不需要的，如标题链接，标点符号，数字，特殊符号等。因此基于正则表达式将所匹配到的噪音除掉。同时将长度等于0的文本直接剔除。为方便阅读与修改，使用罗列的方式展现，代码如下:"
   ]
  },
  {
   "cell_type": "code",
   "execution_count": 21,
   "metadata": {},
   "outputs": [],
   "source": [
    "import jieba\n",
    "import glob\n",
    "import codecs\n",
    "import re"
   ]
  },
  {
   "cell_type": "markdown",
   "metadata": {},
   "source": [
    "首先读取文件中内容，并保存到python list中:"
   ]
  },
  {
   "cell_type": "code",
   "execution_count": 76,
   "metadata": {},
   "outputs": [],
   "source": [
    "corpus = []\n",
    "\n",
    "path = 'resources/extracted_wiki/*'\n",
    "files = glob.glob(path)\n",
    "\n",
    "for file in files:\n",
    "    with codecs.open(file, 'r', encoding = 'utf-8') as f:\n",
    "        for line in f:\n",
    "            corpus.append(line.strip())"
   ]
  },
  {
   "cell_type": "markdown",
   "metadata": {},
   "source": [
    "接着使用re库中的sub函数进行去噪:"
   ]
  },
  {
   "cell_type": "code",
   "execution_count": 77,
   "metadata": {},
   "outputs": [],
   "source": [
    "for i in range(len(corpus)):\n",
    "    corpus[i] = re.sub(\"[\\s+\\.\\!\\/_,$%^*(+\\\"\\']+\\\n",
    "    |[+——！，。？、~@#￥%……&*（）]+\",\"\",corpus[i])   #去除标点及特殊符号\n",
    "    corpus[i] = re.sub(\"[^\\u4e00-\\u9fa5]\",\"\",corpus[i])  #去除非中文内容，如数字，标题链接                                          "
   ]
  },
  {
   "cell_type": "markdown",
   "metadata": {},
   "source": [
    "## 1.2 使用jieba分词\n",
    "将切好的单词存入最终语料库。耗时比较长，可以考虑多进程加速。"
   ]
  },
  {
   "cell_type": "code",
   "execution_count": 80,
   "metadata": {},
   "outputs": [],
   "source": [
    "finalCorpus = []\n",
    "\n",
    "for i in range(len(corpus)):\n",
    "    #将长度大于4的句子进行切分保存\n",
    "    if len(corpus[i]) < 5:\n",
    "        continue\n",
    "    else:\n",
    "        finalCorpus.append(jieba.lcut(corpus[i]))"
   ]
  },
  {
   "cell_type": "markdown",
   "metadata": {},
   "source": [
    "# 2 使用gensim word2vec 获取词向量模型"
   ]
  },
  {
   "cell_type": "code",
   "execution_count": 100,
   "metadata": {},
   "outputs": [],
   "source": [
    "import numpy as np\n",
    "from gensim.models import word2vec\n",
    "from sklearn.manifold import TSNE\n",
    "import matplotlib.pyplot as plt"
   ]
  },
  {
   "cell_type": "markdown",
   "metadata": {},
   "source": [
    "使用word2vec生成模型，每个单词由100维的numpy矩阵表示:"
   ]
  },
  {
   "cell_type": "code",
   "execution_count": 90,
   "metadata": {},
   "outputs": [],
   "source": [
    "model = word2vec.Word2Vec(finalCorpus, size=100, window=20, min_count=200, workers=4)"
   ]
  },
  {
   "cell_type": "markdown",
   "metadata": {},
   "source": [
    "# 3 测试词嵌入性能\n",
    "测试同义词，找几个相似单词"
   ]
  },
  {
   "cell_type": "code",
   "execution_count": 134,
   "metadata": {},
   "outputs": [
    {
     "data": {
      "text/plain": [
       "[('美麗', 0.6214007139205933),\n",
       " ('迷人', 0.6129365563392639),\n",
       " ('可爱', 0.6008138656616211),\n",
       " ('优美', 0.6001632213592529),\n",
       " ('优雅', 0.5904852151870728),\n",
       " ('灿烂', 0.5839894413948059),\n",
       " ('難得', 0.5780038833618164),\n",
       " ('美好', 0.5749510526657104),\n",
       " ('雄伟', 0.5735971927642822),\n",
       " ('耀眼', 0.5657274723052979)]"
      ]
     },
     "execution_count": 134,
     "metadata": {},
     "output_type": "execute_result"
    }
   ],
   "source": [
    "model.wv.most_similar(positive = ['美丽','漂亮'], negative = ['丑陋'])"
   ]
  },
  {
   "cell_type": "markdown",
   "metadata": {},
   "source": [
    "# 4 词向量可视化"
   ]
  },
  {
   "cell_type": "code",
   "execution_count": 124,
   "metadata": {},
   "outputs": [],
   "source": [
    "def tsne_plot(model, words = None, sample = 0):\n",
    "    if words == None:\n",
    "        if sample > 0:\n",
    "            words = np.random.choice(list(model.wv.vocab.keys()), sample)\n",
    "        else:\n",
    "            words = [words for word in model.wv.vocab]\n",
    "        \n",
    "    word_vectors = np.array([model[w] for w in words])\n",
    "    \n",
    "    tsne_model = TSNE(perplexity=40, n_components=2, init='pca', n_iter=2500, random_state=23)\n",
    "    twodim = tsne_model.fit_transform(word_vectors)[:,:2]\n",
    "    \n",
    "    plt.figure(figsize = (6,6))\n",
    "    plt.scatter(twodim[:,0], twodim[:,1])\n",
    "    \n",
    "    for word, (x,y) in zip(words, twodim):\n",
    "        plt.annotate(word,\n",
    "            xy=(x, y),\n",
    "            xytext=(5, 2),\n",
    "            textcoords='offset points',\n",
    "            ha='right',\n",
    "            va='bottom')\n",
    "    \n",
    "    plt.show"
   ]
  },
  {
   "cell_type": "markdown",
   "metadata": {},
   "source": [
    "由于词向量文件过大，全部可视化重叠率高而且极度消耗时间。所以随机选择50个单词进行可视化。"
   ]
  },
  {
   "cell_type": "code",
   "execution_count": 125,
   "metadata": {
    "scrolled": true
   },
   "outputs": [
    {
     "name": "stderr",
     "output_type": "stream",
     "text": [
      "C:\\Users\\huoyi\\Anaconda3\\lib\\site-packages\\ipykernel_launcher.py:8: DeprecationWarning: Call to deprecated `__getitem__` (Method will be removed in 4.0.0, use self.wv.__getitem__() instead).\n",
      "  \n"
     ]
    },
    {
     "data": {
      "image/png": "[encoded data removed]",
      "text/plain": [
       "<Figure size 432x432 with 1 Axes>"
      ]
     },
     "metadata": {
      "needs_background": "light"
     },
     "output_type": "display_data"
    }
   ],
   "source": [
    "tsne_plot(model, None, 50)"
   ]
  },
  {
   "cell_type": "code",
   "execution_count": null,
   "metadata": {},
   "outputs": [],
   "source": []
  }
 ],
 "metadata": {
  "kernelspec": {
   "display_name": "Python 3",
   "language": "python",
   "name": "python3"
  },
  "language_info": {
   "codemirror_mode": {
    "name": "ipython",
    "version": 3
   },
   "file_extension": ".py",
   "mimetype": "text/x-python",
   "name": "python",
   "nbconvert_exporter": "python",
   "pygments_lexer": "ipython3",
   "version": "3.7.1"
  }
 },
 "nbformat": 4,
 "nbformat_minor": 2
}
